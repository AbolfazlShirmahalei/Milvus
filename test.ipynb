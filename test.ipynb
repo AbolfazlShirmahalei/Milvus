{
 "cells": [
  {
   "cell_type": "markdown",
   "id": "d6ba88e7-e10d-4746-96d9-769f37d774e3",
   "metadata": {},
   "source": [
    "## Initialization"
   ]
  },
  {
   "cell_type": "markdown",
   "id": "b8cab5f1-84e0-4749-8944-81432d9a8f8a",
   "metadata": {},
   "source": [
    "### Imports"
   ]
  },
  {
   "cell_type": "code",
   "execution_count": 1,
   "id": "c8de9614-5002-43af-b5b6-4dcc19b6bf54",
   "metadata": {},
   "outputs": [],
   "source": [
    "import os\n",
    "import sys\n",
    "\n",
    "import numpy as np\n",
    "\n",
    "sys.path.append(os.path.expanduser(\"~/Milvus/.\"))\n",
    "from applications.milvus_data_base_provider import MilvusDataBase"
   ]
  },
  {
   "cell_type": "markdown",
   "id": "aff922c3-7f45-41ce-8c3f-24636a8da949",
   "metadata": {},
   "source": [
    "### Create DataBase"
   ]
  },
  {
   "cell_type": "code",
   "execution_count": 2,
   "id": "d603f952-3f53-4993-a20f-e2932f383769",
   "metadata": {},
   "outputs": [
    {
     "name": "stdin",
     "output_type": "stream",
     "text": [
      "sudo password: 12345678\n"
     ]
    },
    {
     "name": "stderr",
     "output_type": "stream",
     "text": [
      "[sudo] password for abolfazl: "
     ]
    },
    {
     "name": "stdout",
     "output_type": "stream",
     "text": [
      "Wait for Milvus Starting...\n",
      "Start successfully.\n",
      "To change the default Milvus configuration, add your settings to the user.yaml file and then restart the service.\n"
     ]
    }
   ],
   "source": [
    "milvus_data_base = MilvusDataBase()\n",
    "\n",
    "COLLECTION_NAME = \"first_collection\"\n",
    "\n",
    "milvus_data_base.create_collection(\n",
    "    collection_name=COLLECTION_NAME,\n",
    "    dimension=4,\n",
    ")"
   ]
  },
  {
   "cell_type": "markdown",
   "id": "3aacf350-c377-4f63-9c60-4e0a022e69aa",
   "metadata": {},
   "source": [
    "### Insert Data"
   ]
  },
  {
   "cell_type": "code",
   "execution_count": 3,
   "id": "70b7cbd7-f59c-4e43-b6ac-aa3a5c4e8467",
   "metadata": {},
   "outputs": [],
   "source": [
    "texts = [\n",
    "    \"Hi\",\n",
    "    \"Hello\",\n",
    "    \"Bye\",\n",
    "    \"GoodBye\",\n",
    "    \"Abolfazl\",\n",
    "    \"Reza\",\n",
    "    \"Mehrnaz\",\n",
    "    \"Zahra\",\n",
    "]\n",
    "\n",
    "vectors = [\n",
    "    (np.array([9, 5, 0, 0]) + np.random.randn(4) * 0.5).tolist(),\n",
    "    (np.array([11, 5, 0, 0]) + np.random.randn(4) * 0.5).tolist(),\n",
    "    (np.array([5, 9, 0, 0]) + np.random.randn(4) * 0.5).tolist(),\n",
    "    (np.array([5, 11, 0, 0]) + np.random.randn(4) * 0.5).tolist(),\n",
    "    (np.array([0, 0, 9, 5]) + np.random.randn(4) * 0.5).tolist(),\n",
    "    (np.array([0, 0, 11, 5]) + np.random.randn(4) * 0.5).tolist(),\n",
    "    (np.array([0, 0, 5, 9]) + np.random.randn(4) * 0.5).tolist(),\n",
    "    (np.array([0, 0, 5, 11]) + np.random.randn(4) * 0.5).tolist(),\n",
    "]\n",
    "\n",
    "data = [\n",
    "    {\n",
    "        \"id\": _id,\n",
    "        \"vector\": vector,\n",
    "        \"text\": text,\n",
    "    }\n",
    "    for _id, (vector, text) in enumerate(zip(vectors, texts))\n",
    "]\n",
    "\n",
    "\n",
    "milvus_data_base.insert(collection_name=COLLECTION_NAME, data=data)"
   ]
  },
  {
   "cell_type": "markdown",
   "id": "db2a0c84-e28a-4e48-b3dd-69afd1dface0",
   "metadata": {},
   "source": [
    "## Search"
   ]
  },
  {
   "cell_type": "markdown",
   "id": "52faeaed-5bd1-42f2-a49b-24d475777854",
   "metadata": {},
   "source": [
    "### Name"
   ]
  },
  {
   "cell_type": "code",
   "execution_count": 4,
   "id": "9657e4aa-e816-40b6-8506-acade7b26d29",
   "metadata": {},
   "outputs": [
    {
     "data": {
      "text/plain": [
       "[[{'id': 6, 'distance': 0.9704626202583313, 'entity': {'text': 'Mehrnaz'}},\n",
       "  {'id': 4, 'distance': 0.9419175982475281, 'entity': {'text': 'Abolfazl'}},\n",
       "  {'id': 7, 'distance': 0.9377603530883789, 'entity': {'text': 'Zahra'}},\n",
       "  {'id': 5, 'distance': 0.9029121398925781, 'entity': {'text': 'Reza'}}]]"
      ]
     },
     "execution_count": 4,
     "metadata": {},
     "output_type": "execute_result"
    }
   ],
   "source": [
    "query_vec = [[0.0, 0.0, 7.5, 7.5]]\n",
    "\n",
    "milvus_data_base.search(\n",
    "    collection_name=COLLECTION_NAME,\n",
    "    query_vec=query_vec,\n",
    "    limit=4,\n",
    "    output_fields=[\"text\"],\n",
    ")"
   ]
  },
  {
   "cell_type": "markdown",
   "id": "a8d963b3-c0b5-475b-bf3b-5fff98d843cd",
   "metadata": {},
   "source": [
    "### Girl's Name"
   ]
  },
  {
   "cell_type": "code",
   "execution_count": 5,
   "id": "ae702d3a-bd9d-403b-9d27-7a22798799df",
   "metadata": {},
   "outputs": [
    {
     "data": {
      "text/plain": [
       "[[{'id': 7, 'distance': 0.9969291687011719, 'entity': {'text': 'Zahra'}},\n",
       "  {'id': 6, 'distance': 0.9922228455543518, 'entity': {'text': 'Mehrnaz'}}]]"
      ]
     },
     "execution_count": 5,
     "metadata": {},
     "output_type": "execute_result"
    }
   ],
   "source": [
    "query_vec = [[0.0, 0.0, 5.0, 10.0]]\n",
    "\n",
    "milvus_data_base.search(\n",
    "    collection_name=COLLECTION_NAME,\n",
    "    query_vec=query_vec,\n",
    "    limit=2,\n",
    "    output_fields=[\"text\"],\n",
    ")"
   ]
  },
  {
   "cell_type": "markdown",
   "id": "682b4d6d-1345-4a6a-9e7f-8126a9fab19f",
   "metadata": {},
   "source": [
    "### Hi and Hello"
   ]
  },
  {
   "cell_type": "code",
   "execution_count": 6,
   "id": "fbef6a1a-b6f2-423c-a8fa-cb3031760dc2",
   "metadata": {},
   "outputs": [
    {
     "data": {
      "text/plain": [
       "[[{'id': 1, 'distance': 0.9970390796661377, 'entity': {'text': 'Hello'}},\n",
       "  {'id': 0, 'distance': 0.9940271377563477, 'entity': {'text': 'Hi'}}]]"
      ]
     },
     "execution_count": 6,
     "metadata": {},
     "output_type": "execute_result"
    }
   ],
   "source": [
    "query_vec = [[10.0, 5.0, 0.0, 0.0]]\n",
    "\n",
    "milvus_data_base.search(\n",
    "    collection_name=COLLECTION_NAME,\n",
    "    query_vec=query_vec,\n",
    "    limit=2,\n",
    "    output_fields=[\"text\"],\n",
    ")"
   ]
  },
  {
   "cell_type": "markdown",
   "id": "618da600-4a80-40b2-9c97-6b614eef3c59",
   "metadata": {},
   "source": [
    "## Delete DataBase"
   ]
  },
  {
   "cell_type": "code",
   "execution_count": 7,
   "id": "73b9886b-cbf3-4525-b998-eb2bb86c36c2",
   "metadata": {},
   "outputs": [
    {
     "name": "stderr",
     "output_type": "stream",
     "text": [
      "[sudo] password for abolfazl: "
     ]
    },
    {
     "name": "stdout",
     "output_type": "stream",
     "text": [
      "Stop successfully.\n",
      "Delete milvus container successfully.\n",
      "Delete successfully.\n"
     ]
    },
    {
     "name": "stderr",
     "output_type": "stream",
     "text": [
      "[sudo] password for abolfazl: "
     ]
    }
   ],
   "source": [
    "milvus_data_base.delete()"
   ]
  }
 ],
 "metadata": {
  "kernelspec": {
   "display_name": "Python 3 (ipykernel)",
   "language": "python",
   "name": "python3"
  },
  "language_info": {
   "codemirror_mode": {
    "name": "ipython",
    "version": 3
   },
   "file_extension": ".py",
   "mimetype": "text/x-python",
   "name": "python",
   "nbconvert_exporter": "python",
   "pygments_lexer": "ipython3",
   "version": "3.9.13"
  }
 },
 "nbformat": 4,
 "nbformat_minor": 5
}
